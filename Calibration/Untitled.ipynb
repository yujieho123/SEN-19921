{
 "cells": [
  {
   "cell_type": "code",
   "execution_count": null,
   "id": "7c68035e",
   "metadata": {},
   "outputs": [],
   "source": [
    "with open('points.csv', 'w') as f:\n",
    "    for i in range(1,len(mag_x)):\n",
    "        f.write(\"{}\\t{}\\t{}\\n\".format(mag_x[i],mag_y[i],mag_z[i]))"
   ]
  }
 ],
 "metadata": {
  "kernelspec": {
   "display_name": "Python 3 (ipykernel)",
   "language": "python",
   "name": "python3"
  },
  "language_info": {
   "codemirror_mode": {
    "name": "ipython",
    "version": 3
   },
   "file_extension": ".py",
   "mimetype": "text/x-python",
   "name": "python",
   "nbconvert_exporter": "python",
   "pygments_lexer": "ipython3",
   "version": "3.9.12"
  }
 },
 "nbformat": 4,
 "nbformat_minor": 5
}
